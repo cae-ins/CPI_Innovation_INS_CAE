{
 "cells": [
  {
   "cell_type": "code",
   "execution_count": 1,
   "metadata": {},
   "outputs": [
    {
     "name": "stdout",
     "output_type": "stream",
     "text": [
      "   code_var 2014  current_month_mean_price  base_year_mean_price  index\n",
      "0      401000002              6.878606e+05          6.878606e+05  100.0\n",
      "1      401000005              4.660000e+06          4.660000e+06  100.0\n",
      "2      401000006              1.434615e+06          1.434615e+06  100.0\n",
      "3      401000008              7.100000e+05          7.100000e+05  100.0\n",
      "4      401000010              1.000000e+05          1.000000e+05  100.0\n",
      "Les résultats ont été sauvegardés dans path_to_output_file.csv\n"
     ]
    }
   ],
   "source": [
    "import pandas as pd\n",
    "\n",
    "# Chemin vers les fichiers\n",
    "base_year_file = ''\n",
    "current_month_file = ''\n",
    "weight_file = ''\n",
    "\n",
    "# Importer les fichiers CSV\n",
    "df_base_year = pd.read_csv(base_year_file)\n",
    "df_current_month = pd.read_csv(current_month_file)\n",
    "\n",
    "# Importer le fichier Excel de pondération\n",
    "weights_df = pd.read_excel(weight_file, sheet_name='Sheet1')\n",
    "weights_df.columns = ['code_var 2014', 'weight']\n",
    "\n",
    "# Calculer la moyenne des prix par catégorie pour l'année de base\n",
    "base_year_mean_prices = df_base_year.groupby('code_var 2014')['price'].mean().reset_index()\n",
    "base_year_mean_prices.columns = ['code_var 2014', 'base_year_mean_price']\n",
    "\n",
    "# Calculer la moyenne des prix par catégorie pour le mois en cours\n",
    "current_month_mean_prices = df_current_month.groupby('code_var 2014')['price'].mean().reset_index()\n",
    "current_month_mean_prices.columns = ['code_var 2014', 'current_month_mean_price']\n",
    "\n",
    "# Fusionner les données de l'année de base, du mois en cours, et les pondérations\n",
    "merged_df = pd.merge(current_month_mean_prices, base_year_mean_prices, on='code_var 2014')\n",
    "merged_df = pd.merge(merged_df, weights_df, on='code_var 2014')\n",
    "\n",
    "# Calculer l'indice de Laspeyres par catégorie\n",
    "merged_df['laspeyres_index'] = (merged_df['current_month_mean_price'] / merged_df['base_year_mean_price']) * merged_df['weight']\n",
    "\n",
    "# Calculer l'indice global de Laspeyres\n",
    "laspeyres_index_global = merged_df['laspeyres_index'].sum() / merged_df['weight'].sum() * 100\n",
    "\n",
    "# Afficher les résultats\n",
    "print(merged_df)\n",
    "print(f\"Indice de Laspeyres global: {laspeyres_index_global}\")\n",
    "\n",
    "# Exporter les résultats vers un fichier CSV\n",
    "# output_path = '/mnt/data/laspeyres_index_results.csv'  \n",
    "# merged_df.to_csv(output_path, index=False)\n",
    "# print(f\"Les résultats ont été sauvegardés dans {output_path}\")\n"
   ]
  }
 ],
 "metadata": {
  "kernelspec": {
   "display_name": "Python 3",
   "language": "python",
   "name": "python3"
  },
  "language_info": {
   "codemirror_mode": {
    "name": "ipython",
    "version": 3
   },
   "file_extension": ".py",
   "mimetype": "text/x-python",
   "name": "python",
   "nbconvert_exporter": "python",
   "pygments_lexer": "ipython3",
   "version": "3.12.1"
  }
 },
 "nbformat": 4,
 "nbformat_minor": 2
}
