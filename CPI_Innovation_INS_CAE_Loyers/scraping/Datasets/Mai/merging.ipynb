{
 "cells": [
  {
   "cell_type": "code",
   "execution_count": 2,
   "metadata": {},
   "outputs": [
    {
     "name": "stdout",
     "output_type": "stream",
     "text": [
      "Le fichier fusionné a été créé avec succès : D:\\Bureau\\MemoiresStages\\Travaux_techniques\\Scrapping\\Datasets\\Mai\\merged\\Mai.csv\n"
     ]
    }
   ],
   "source": [
    "import os\n",
    "import pandas as pd\n",
    "\n",
    "def merge_csv_files(folder_path, output_file_path):\n",
    "    \"\"\"\n",
    "    Parcourt tous les fichiers CSV dans le dossier spécifié, ajoute une colonne 'site' basée sur le nom du fichier,\n",
    "    et fusionne tous les fichiers dans un seul fichier CSV.\n",
    "\n",
    "    Args:\n",
    "    folder_path (str): Le chemin du dossier contenant les fichiers CSV.\n",
    "    output_file_path (str): Le chemin du fichier de sortie pour le fichier fusionné.\n",
    "    \"\"\"\n",
    "    # Créer une liste pour stocker les DataFrames\n",
    "    dataframes = []\n",
    "\n",
    "    # Parcourir tous les fichiers dans le dossier\n",
    "    for filename in os.listdir(folder_path):\n",
    "        \n",
    "        if filename.endswith('.csv'):\n",
    "            \n",
    "            # Lire le fichier CSV\n",
    "            file_path = os.path.join(folder_path, filename)\n",
    "            df = pd.read_csv(file_path)\n",
    "            \n",
    "            # Ajouter la colonne 'site' basée sur le nom du fichier\n",
    "            site_name = os.path.splitext(filename)[0].split(\"_\")[0]\n",
    "            df['site'] = site_name\n",
    "            \n",
    "            # Ajouter le DataFrame à la liste\n",
    "            dataframes.append(df)\n",
    "\n",
    "    # Fusionner tous les DataFrames\n",
    "    combined_df = pd.concat(dataframes, ignore_index=True)\n",
    "\n",
    "    # Sauvegarder le fichier fusionné\n",
    "    combined_df.to_csv(output_file_path, index=False)\n",
    "\n",
    "    print(f\"Le fichier fusionné a été créé avec succès : {output_file_path}\")\n",
    "\n",
    "# Exemple d'utilisation de la fonction\n",
    "folder_path = r'D:\\Bureau\\MemoiresStages\\Travaux_techniques\\Scrapping\\Datasets\\Mai'\n",
    "output_file_path = r'D:\\Bureau\\MemoiresStages\\Travaux_techniques\\Scrapping\\Datasets\\Mai\\merged\\Mai.csv'\n",
    "\n",
    "merge_csv_files(folder_path, output_file_path)\n"
   ]
  }
 ],
 "metadata": {
  "kernelspec": {
   "display_name": "Python 3",
   "language": "python",
   "name": "python3"
  },
  "language_info": {
   "codemirror_mode": {
    "name": "ipython",
    "version": 3
   },
   "file_extension": ".py",
   "mimetype": "text/x-python",
   "name": "python",
   "nbconvert_exporter": "python",
   "pygments_lexer": "ipython3",
   "version": "3.12.1"
  }
 },
 "nbformat": 4,
 "nbformat_minor": 2
}
