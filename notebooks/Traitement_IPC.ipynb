{
 "cells": [
  {
   "cell_type": "markdown",
   "metadata": {},
   "source": [
    "##### COORESPONDANCE DES FICHIERS COLLECTES"
   ]
  },
  {
   "cell_type": "code",
   "execution_count": 151,
   "metadata": {},
   "outputs": [],
   "source": [
    "import pandas as pd\n",
    "from datetime import datetime, timedelta\n",
    "import os, sys"
   ]
  },
  {
   "cell_type": "code",
   "execution_count": 152,
   "metadata": {},
   "outputs": [
    {
     "data": {
      "text/html": [
       "<div>\n",
       "<style scoped>\n",
       "    .dataframe tbody tr th:only-of-type {\n",
       "        vertical-align: middle;\n",
       "    }\n",
       "\n",
       "    .dataframe tbody tr th {\n",
       "        vertical-align: top;\n",
       "    }\n",
       "\n",
       "    .dataframe thead th {\n",
       "        text-align: right;\n",
       "    }\n",
       "</style>\n",
       "<table border=\"1\" class=\"dataframe\">\n",
       "  <thead>\n",
       "    <tr style=\"text-align: right;\">\n",
       "      <th></th>\n",
       "      <th>Date_de_collecte</th>\n",
       "      <th>Code_site</th>\n",
       "      <th>Libelle_du_produit</th>\n",
       "      <th>Code produit</th>\n",
       "      <th>Quantite</th>\n",
       "      <th>Prix_du_produit</th>\n",
       "      <th>Caracteristique</th>\n",
       "      <th>Unite</th>\n",
       "      <th>Unite_monetaire</th>\n",
       "      <th>Code</th>\n",
       "      <th>Observation</th>\n",
       "    </tr>\n",
       "  </thead>\n",
       "  <tbody>\n",
       "    <tr>\n",
       "      <th>0</th>\n",
       "      <td>2024-03-09 04:02:44</td>\n",
       "      <td>adjovan</td>\n",
       "      <td>HARICOT BLANC VRAC [300G]</td>\n",
       "      <td>1010703020301</td>\n",
       "      <td>300</td>\n",
       "      <td>500</td>\n",
       "      <td>Pas de Caracteristique</td>\n",
       "      <td>G</td>\n",
       "      <td>CFA</td>\n",
       "      <td>111111</td>\n",
       "      <td>Ce produit figure dans le panier de bien</td>\n",
       "    </tr>\n",
       "    <tr>\n",
       "      <th>1</th>\n",
       "      <td>2024-03-09 04:05:09</td>\n",
       "      <td>adjovan</td>\n",
       "      <td>CARTON DE COTE DE PORC (STERNUM) [10KG]</td>\n",
       "      <td>1010203010201</td>\n",
       "      <td>10</td>\n",
       "      <td>13.000 12.000</td>\n",
       "      <td>Pas de Caracteristique</td>\n",
       "      <td>KG</td>\n",
       "      <td>CFA</td>\n",
       "      <td>111111</td>\n",
       "      <td>ce produit figure dans le panier de bien</td>\n",
       "    </tr>\n",
       "    <tr>\n",
       "      <th>2</th>\n",
       "      <td>2024-03-09 04:05:20</td>\n",
       "      <td>adjovan</td>\n",
       "      <td>COTES DE PORC SANS PEAU [500G]</td>\n",
       "      <td>1010203010201</td>\n",
       "      <td>500</td>\n",
       "      <td>1.600</td>\n",
       "      <td>Le porc contient plusieurs nutriments essentie...</td>\n",
       "      <td>G</td>\n",
       "      <td>CFA</td>\n",
       "      <td>111111</td>\n",
       "      <td>ce produit figure dans le panier de bien</td>\n",
       "    </tr>\n",
       "    <tr>\n",
       "      <th>3</th>\n",
       "      <td>2024-03-09 04:05:23</td>\n",
       "      <td>adjovan</td>\n",
       "      <td>COTES/COTELETTES DE BOEUF FUMÉES [1/2KG]</td>\n",
       "      <td>1010201010101</td>\n",
       "      <td>1</td>\n",
       "      <td>1.100</td>\n",
       "      <td>Pas de Caracteristique</td>\n",
       "      <td>KG</td>\n",
       "      <td>CFA</td>\n",
       "      <td>111111</td>\n",
       "      <td>ce produit figure dans le panier</td>\n",
       "    </tr>\n",
       "    <tr>\n",
       "      <th>4</th>\n",
       "      <td>2024-03-09 04:05:37</td>\n",
       "      <td>adjovan</td>\n",
       "      <td>ÉCHINE DE PORC [500G]</td>\n",
       "      <td>1010203010201</td>\n",
       "      <td>500</td>\n",
       "      <td>1.500 1.000</td>\n",
       "      <td>Tirée de la partie supérieure du cou, l’échine...</td>\n",
       "      <td>G</td>\n",
       "      <td>CFA</td>\n",
       "      <td>111111</td>\n",
       "      <td>ce produit figure dans le panier de bien</td>\n",
       "    </tr>\n",
       "  </tbody>\n",
       "</table>\n",
       "</div>"
      ],
      "text/plain": [
       "      Date_de_collecte Code_site                        Libelle_du_produit  \\\n",
       "0  2024-03-09 04:02:44   adjovan                 HARICOT BLANC VRAC [300G]   \n",
       "1  2024-03-09 04:05:09   adjovan   CARTON DE COTE DE PORC (STERNUM) [10KG]   \n",
       "2  2024-03-09 04:05:20   adjovan            COTES DE PORC SANS PEAU [500G]   \n",
       "3  2024-03-09 04:05:23   adjovan  COTES/COTELETTES DE BOEUF FUMÉES [1/2KG]   \n",
       "4  2024-03-09 04:05:37   adjovan                     ÉCHINE DE PORC [500G]   \n",
       "\n",
       "    Code produit Quantite Prix_du_produit  \\\n",
       "0  1010703020301      300             500   \n",
       "1  1010203010201       10   13.000 12.000   \n",
       "2  1010203010201      500           1.600   \n",
       "3  1010201010101        1           1.100   \n",
       "4  1010203010201      500     1.500 1.000   \n",
       "\n",
       "                                     Caracteristique Unite Unite_monetaire  \\\n",
       "0                             Pas de Caracteristique     G             CFA   \n",
       "1                             Pas de Caracteristique    KG             CFA   \n",
       "2  Le porc contient plusieurs nutriments essentie...     G             CFA   \n",
       "3                             Pas de Caracteristique    KG             CFA   \n",
       "4  Tirée de la partie supérieure du cou, l’échine...     G             CFA   \n",
       "\n",
       "     Code                               Observation  \n",
       "0  111111  Ce produit figure dans le panier de bien  \n",
       "1  111111  ce produit figure dans le panier de bien  \n",
       "2  111111  ce produit figure dans le panier de bien  \n",
       "3  111111          ce produit figure dans le panier  \n",
       "4  111111  ce produit figure dans le panier de bien  "
      ]
     },
     "execution_count": 152,
     "metadata": {},
     "output_type": "execute_result"
    }
   ],
   "source": [
    "panier_df = pd.read_excel(\"Echantillon_Data_Scrapping_09032024_valide_code.xlsx\")\n",
    "panier_df.head()"
   ]
  },
  {
   "cell_type": "code",
   "execution_count": 66,
   "metadata": {},
   "outputs": [
    {
     "data": {
      "text/html": [
       "<div>\n",
       "<style scoped>\n",
       "    .dataframe tbody tr th:only-of-type {\n",
       "        vertical-align: middle;\n",
       "    }\n",
       "\n",
       "    .dataframe tbody tr th {\n",
       "        vertical-align: top;\n",
       "    }\n",
       "\n",
       "    .dataframe thead th {\n",
       "        text-align: right;\n",
       "    }\n",
       "</style>\n",
       "<table border=\"1\" class=\"dataframe\">\n",
       "  <thead>\n",
       "    <tr style=\"text-align: right;\">\n",
       "      <th></th>\n",
       "      <th>Code_site</th>\n",
       "      <th>Date_de_collecte</th>\n",
       "      <th>Libelle_du_produit</th>\n",
       "      <th>Quantite</th>\n",
       "      <th>Prix_du_produit</th>\n",
       "      <th>Unite_monetaire</th>\n",
       "      <th>Caracteristique</th>\n",
       "      <th>Unite</th>\n",
       "    </tr>\n",
       "  </thead>\n",
       "  <tbody>\n",
       "    <tr>\n",
       "      <th>0</th>\n",
       "      <td>https://www.ivoirshop.ci/</td>\n",
       "      <td>2024-03-01</td>\n",
       "      <td>Toilettes portables pour enfants – 12mois à 6ans</td>\n",
       "      <td>Status:In stock</td>\n",
       "      <td>13.500</td>\n",
       "      <td>FCFA</td>\n",
       "      <td>NaN</td>\n",
       "      <td>NaN</td>\n",
       "    </tr>\n",
       "    <tr>\n",
       "      <th>1</th>\n",
       "      <td>https://www.ivoirshop.ci/</td>\n",
       "      <td>2024-03-01</td>\n",
       "      <td>Toilettes portables pour enfants – 12mois à 6ans</td>\n",
       "      <td>Status:In stock</td>\n",
       "      <td>13.500</td>\n",
       "      <td>FCFA</td>\n",
       "      <td>NaN</td>\n",
       "      <td>NaN</td>\n",
       "    </tr>\n",
       "    <tr>\n",
       "      <th>2</th>\n",
       "      <td>https://www.ivoirshop.ci/</td>\n",
       "      <td>2024-03-01</td>\n",
       "      <td>PHARES H7 LED S2</td>\n",
       "      <td>Status:In stock</td>\n",
       "      <td>13.000</td>\n",
       "      <td>FCFA</td>\n",
       "      <td>NaN</td>\n",
       "      <td>NaN</td>\n",
       "    </tr>\n",
       "    <tr>\n",
       "      <th>3</th>\n",
       "      <td>https://www.ivoirshop.ci/</td>\n",
       "      <td>2024-03-01</td>\n",
       "      <td>Ozone woofer/home cinema – (BT – USB – FM – TV...</td>\n",
       "      <td>Status:In stock</td>\n",
       "      <td>22.500</td>\n",
       "      <td>FCFA</td>\n",
       "      <td>NaN</td>\n",
       "      <td>NaN</td>\n",
       "    </tr>\n",
       "    <tr>\n",
       "      <th>4</th>\n",
       "      <td>https://www.ivoirshop.ci/</td>\n",
       "      <td>2024-03-01</td>\n",
       "      <td>Blender Incassable Binatone BLG – 555 – 1.5 L ...</td>\n",
       "      <td>Status:2 en stock</td>\n",
       "      <td>NaN</td>\n",
       "      <td>NaN</td>\n",
       "      <td>NaN</td>\n",
       "      <td>NaN</td>\n",
       "    </tr>\n",
       "  </tbody>\n",
       "</table>\n",
       "</div>"
      ],
      "text/plain": [
       "                   Code_site Date_de_collecte  \\\n",
       "0  https://www.ivoirshop.ci/       2024-03-01   \n",
       "1  https://www.ivoirshop.ci/       2024-03-01   \n",
       "2  https://www.ivoirshop.ci/       2024-03-01   \n",
       "3  https://www.ivoirshop.ci/       2024-03-01   \n",
       "4  https://www.ivoirshop.ci/       2024-03-01   \n",
       "\n",
       "                                  Libelle_du_produit           Quantite  \\\n",
       "0   Toilettes portables pour enfants – 12mois à 6ans    Status:In stock   \n",
       "1   Toilettes portables pour enfants – 12mois à 6ans    Status:In stock   \n",
       "2                                   PHARES H7 LED S2    Status:In stock   \n",
       "3  Ozone woofer/home cinema – (BT – USB – FM – TV...    Status:In stock   \n",
       "4  Blender Incassable Binatone BLG – 555 – 1.5 L ...  Status:2 en stock   \n",
       "\n",
       "  Prix_du_produit Unite_monetaire Caracteristique Unite  \n",
       "0          13.500            FCFA             NaN   NaN  \n",
       "1          13.500            FCFA             NaN   NaN  \n",
       "2          13.000            FCFA             NaN   NaN  \n",
       "3          22.500            FCFA             NaN   NaN  \n",
       "4             NaN             NaN             NaN   NaN  "
      ]
     },
     "execution_count": 66,
     "metadata": {},
     "output_type": "execute_result"
    }
   ],
   "source": [
    "date1 = datetime.strptime(\"01-03-2024\", \"%d-%m-%Y\")\n",
    "date_str = date1.strftime(\"%d%m%Y\")\n",
    "fichier_journalier = os.path.join(\"Data_Collecte\",\"mars\",f\"Data_Scrapping_{date_str}.xlsx\")\n",
    "df_journalier = pd.read_excel(fichier_journalier)\n",
    "df_journalier.head()"
   ]
  },
  {
   "cell_type": "code",
   "execution_count": 153,
   "metadata": {},
   "outputs": [],
   "source": [
    "colonnes_a_comparer = [\"Libelle_du_produit\"]  "
   ]
  },
  {
   "cell_type": "code",
   "execution_count": 154,
   "metadata": {},
   "outputs": [],
   "source": [
    "date_debut = datetime.strptime(\"01-03-2024\", \"%d-%m-%Y\")  \n",
    "date_fin = datetime.strptime(\"30-03-2024\", \"%d-%m-%Y\")  "
   ]
  },
  {
   "cell_type": "code",
   "execution_count": 155,
   "metadata": {},
   "outputs": [
    {
     "name": "stdout",
     "output_type": "stream",
     "text": [
      "Le fichier Data_Collecte\\mars\\Data_Scrapping_10032024.xlsx n'existe pas.\n",
      "Le fichier Data_Collecte\\mars\\Data_Scrapping_15032024.xlsx n'existe pas.\n",
      "Le fichier Data_Collecte\\mars\\Data_Scrapping_16032024.xlsx n'existe pas.\n",
      "Le fichier Data_Collecte\\mars\\Data_Scrapping_17032024.xlsx n'existe pas.\n",
      "Le fichier Data_Collecte\\mars\\Data_Scrapping_19032024.xlsx n'existe pas.\n",
      "Le fichier Data_Collecte\\mars\\Data_Scrapping_24032024.xlsx n'existe pas.\n"
     ]
    }
   ],
   "source": [
    "# Traiter les intervalles de prix pour obtenir le plus petit prix\n",
    "def extract_min_price(value):\n",
    "    if isinstance(value, str):\n",
    "        if \"-\" in value:\n",
    "            parts = value.split(\"-\")\n",
    "            if len(parts) >= 2:\n",
    "                return int(parts[0].strip())\n",
    "        elif \" \" in value:\n",
    "            return int(value.split()[0])\n",
    "    return value\n",
    "\n",
    "while date_debut <= date_fin:\n",
    "    date_str = date_debut.strftime(\"%d%m%Y\")\n",
    "    fichier_journalier = os.path.join(\"Data_Collecte\",\"mars\", f\"Data_Scrapping_{date_str}.xlsx\")\n",
    "    try:\n",
    "        df_journalier = pd.read_excel(fichier_journalier)\n",
    "        \n",
    "        lignes_correspondantes = pd.merge(df_journalier, panier_df[['Libelle_du_produit', 'Code produit', 'Code']], how=\"inner\", on=colonnes_a_comparer)\n",
    "        lignes_correspondantes[\"Prix_du_produit\"] = lignes_correspondantes[\"Prix_du_produit\"].fillna(\"\")\n",
    "        lignes_correspondantes[\"Prix_du_produit\"] = lignes_correspondantes[\"Prix_du_produit\"].apply(lambda x: x.replace(\".\", \"\") if isinstance(x, str) else x)\n",
    "        lignes_correspondantes[\"Prix_du_produit\"] = lignes_correspondantes[\"Prix_du_produit\"].apply(lambda x: x.replace(\",\", \"\") if isinstance(x, str) else x)\n",
    "        #lignes_correspondantes[\"Prix_du_produit\"] = pd.to_numeric(lignes_correspondantes[\"Prix_du_produit\"].str.replace(\"[^\\d-]\", \"\", regex=True), errors='coerce')\n",
    "        #lignes_correspondantes[\"Prix_du_produit\"] = lignes_correspondantes[\"Prix_du_produit\"].apply(lambda x: float(x.split(\"-\")[0]) if isinstance(x, str) and \"-\" in x else x)\n",
    "        lignes_correspondantes[\"Prix_du_produit\"] = lignes_correspondantes[\"Prix_du_produit\"].apply(extract_min_price)\n",
    "        \n",
    "        fichier_sortie = os.path.join(\"Data_Valide\",\"mars\",f\"Data_Scrapping_{date_str}.xlsx\")\n",
    "        lignes_correspondantes.to_excel(fichier_sortie, index=False)\n",
    "        \n",
    "    except FileNotFoundError:\n",
    "        print(f\"Le fichier {fichier_journalier} n'existe pas.\")\n",
    " \n",
    "    date_debut += timedelta(days=1)"
   ]
  },
  {
   "cell_type": "markdown",
   "metadata": {},
   "source": [
    "##### ESTIMATION DES PRIX MANQUANTS"
   ]
  },
  {
   "cell_type": "markdown",
   "metadata": {},
   "source": [
    "##### Fusion des différents fichiers journaliers"
   ]
  },
  {
   "cell_type": "code",
   "execution_count": 159,
   "metadata": {},
   "outputs": [],
   "source": [
    "dossier = os.path.join(\"Data_Valide\",\"mars\")\n",
    "\n",
    "dfs = []\n",
    "\n",
    "for fichier in os.listdir(dossier):  \n",
    "    chemin_fichier = os.path.join(dossier, fichier)\n",
    "    df = pd.read_excel(chemin_fichier)\n",
    "    dfs.append(df)\n",
    "\n",
    "df_final = pd.concat(dfs, ignore_index=True)\n",
    "\n",
    "fichier_sortie = os.path.join(\"Data_Valide\",\"mars\",\"Data_Scrapping_mars2024.xlsx\")\n",
    "\n",
    "df_final.to_excel(fichier_sortie, index=False)\n"
   ]
  },
  {
   "cell_type": "markdown",
   "metadata": {},
   "source": [
    "###"
   ]
  },
  {
   "cell_type": "markdown",
   "metadata": {},
   "source": [
    "##### Moyenne du prix des différents produits"
   ]
  },
  {
   "cell_type": "code",
   "execution_count": 170,
   "metadata": {},
   "outputs": [],
   "source": [
    "# Moyenne des prix pour le mois de mars\n",
    "filem = os.path.join(\"Data_Valide\",\"mars\",\"Data_Scrapping_mars2024.xlsx\")\n",
    "file_out = os.path.join(\"Data_Valide\",\"mars\",\"M_Data_Scrapping_mars2024.xlsx\")\n",
    "dfm = pd.read_excel(filem)\n",
    "resultmars = dfm.groupby(['Code_site', 'Date_de_collecte','Libelle_du_produit','Quantite','Caracteristique','Unite','Unite_monetaire','Code produit','Code']).agg({'Prix_du_produit': 'mean'}).reset_index()\n",
    "resultmars = resultmars[['Code_site', 'Date_de_collecte','Libelle_du_produit','Quantite','Prix_du_produit','Caracteristique','Unite','Unite_monetaire','Code produit','Code']]\n",
    "resultmars.to_excel(file_out, index=False)"
   ]
  },
  {
   "cell_type": "code",
   "execution_count": 171,
   "metadata": {},
   "outputs": [],
   "source": [
    "# Moyenne des prix pour le mois d'avril\n",
    "filea = os.path.join(\"Data_Valide\",\"avril\",\"Data_Scrapping_avril2024.xlsx\")\n",
    "file1_out = os.path.join(\"Data_Valide\",\"avril\",\"M_Data_Scrapping_avril2024.xlsx\")\n",
    "dfa = pd.read_excel(filem)\n",
    "resultavril = dfm.groupby(['Code_site', 'Date_de_collecte','Libelle_du_produit','Quantite','Caracteristique','Unite','Unite_monetaire','Code produit','Code']).agg({'Prix_du_produit': 'mean'}).reset_index()\n",
    "resultavril = resultavril[['Code_site', 'Date_de_collecte','Libelle_du_produit','Quantite','Prix_du_produit','Caracteristique','Unite','Unite_monetaire','Code produit','Code']]\n",
    "resultavril.to_excel(file1_out, index=False)"
   ]
  },
  {
   "cell_type": "code",
   "execution_count": 169,
   "metadata": {},
   "outputs": [
    {
     "name": "stdout",
     "output_type": "stream",
     "text": [
      "        pays  valeur   ville\n",
      "0  Allemagne    30.0  Berlin\n",
      "1  Allemagne    40.0  Munich\n",
      "2     France    20.0    Lyon\n",
      "3     France    10.0   Paris\n",
      "4     Italie    50.0    Rome\n"
     ]
    }
   ],
   "source": []
  }
 ],
 "metadata": {
  "kernelspec": {
   "display_name": "base",
   "language": "python",
   "name": "python3"
  },
  "language_info": {
   "codemirror_mode": {
    "name": "ipython",
    "version": 3
   },
   "file_extension": ".py",
   "mimetype": "text/x-python",
   "name": "python",
   "nbconvert_exporter": "python",
   "pygments_lexer": "ipython3",
   "version": "3.11.5"
  }
 },
 "nbformat": 4,
 "nbformat_minor": 2
}
