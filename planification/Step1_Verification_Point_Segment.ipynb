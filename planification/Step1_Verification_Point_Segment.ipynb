{
 "cells": [
  {
   "cell_type": "code",
   "execution_count": 3,
   "id": "4c817fa2",
   "metadata": {},
   "outputs": [],
   "source": [
    "import pandas as pd\n",
    "import subprocess\n",
    "import numpy as npdef send_mail(name,receveur=\"ari.kouassi@stat.plan.gouv.ci\",cc=\"do.akadie@stat.plan.gouv.ci;j.migone@stat.plan.gouv.ci\"):\n",
    "    ol=win32com.client.Dispatch(\"outlook.application\")\n",
    "    current_day = datetime.now().strftime(\"%Y-%m-%d\")\n",
    "    current_hour = datetime.now().strftime(\"%H\")\n",
    "    olmailitem=0x0 #size of the new email\n",
    "    newmail=ol.CreateItem(olmailitem)\n",
    "    newmail.Subject= 'Testing Mail Suivi Carto Automatique'\n",
    "    newmail.To=receveur\n",
    "    newmail.CC=cc\n",
    "    newmail.Body= 'Bonjour M. Aristide, je vous prie de trouver, ci-joint, le point de la vérification cartographique du ' + current_day + ' à ' + current_hour\n",
    "    attach= wd + name + \".xlsx\"\n",
    "    newmail.Attachments.Add(attach)\n",
    "    newmail.Send()\n",
    "import os\n",
    "from datetime import datetime\n",
    "import geopandas as gpd\n",
    "import win32com.client\n",
    "from shapely.geometry import Point, Polygon"
   ]
  },
  {
   "cell_type": "code",
   "execution_count": 15,
   "id": "4fa8e385",
   "metadata": {},
   "outputs": [],
   "source": [
    "# définition du dossier de travail\n",
    "# les données sont dans le dossier drive de la reforme\n",
    "wd = \"C:\\\\Users\\\\\" + os.environ.get('USERNAME') + \"\\\\OneDrive - GOUVCI\\\\Refonte Enquête Emploi_ Equipe Technique - Fichiers\\\\Applis\\\\Suivi_Cartographique\\\\Suivi_Carto_Automatic\\\\\""
   ]
  },
  {
   "cell_type": "code",
   "execution_count": 16,
   "id": "b22df2a2",
   "metadata": {},
   "outputs": [],
   "source": [
    "#Lecture des données ménages \n",
    "base_verif_carto = pd.read_stata(wd + \"Data\\\\base_menage_carto_verif.dta\")"
   ]
  },
  {
   "cell_type": "code",
   "execution_count": 17,
   "id": "6011b8f3",
   "metadata": {},
   "outputs": [],
   "source": [
    "#Lecture des données dénombrement\n",
    "base_denombrement_batiment = pd.read_stata(wd + \"Data\\\\batiment_verif.dta\")"
   ]
  },
  {
   "cell_type": "code",
   "execution_count": 33,
   "id": "b9384503",
   "metadata": {},
   "outputs": [],
   "source": [
    "def send_mail(name,receveur=\"ari.kouassi@stat.plan.gouv.ci\",cc=\"do.akadie@stat.plan.gouv.ci;j.migone@stat.plan.gouv.ci\"):\n",
    "    ol=win32com.client.Dispatch(\"outlook.application\")\n",
    "    current_day = datetime.now().strftime(\"%Y-%m-%d\")\n",
    "    current_hour = datetime.now().strftime(\"%H\")\n",
    "    olmailitem=0x0 #size of the new email\n",
    "    newmail=ol.CreateItem(olmailitem)\n",
    "    newmail.Subject= 'Testing Mail Suivi Carto Automatique'\n",
    "    newmail.To=receveur\n",
    "    newmail.CC=cc\n",
    "    newmail.Body= 'Bonjour M. Aristide, je vous prie de trouver, ci-joint, le point de la vérification cartographique du ' + current_day + ' à ' + current_hour\n",
    "    attach= wd + name + \".xlsx\"\n",
    "    newmail.Attachments.Add(attach)\n",
    "    newmail.Send()"
   ]
  },
  {
   "cell_type": "code",
   "execution_count": 28,
   "id": "8ed9af49",
   "metadata": {},
   "outputs": [
    {
     "data": {
      "text/plain": [
       "Index(['interview__key', 'interview__id', 'ilot__id', 'batiment__id',\n",
       "       'list_bat', 'index_bat', 'lib_bat', 'batim', 'gps__Latitude',\n",
       "       'gps__Longitude',\n",
       "       ...\n",
       "       'numero_chef', 'numero_autre_membre', 'menobs', 'obs', 'nb_men_bt',\n",
       "       '_merge', 'nb_men_ilot', 'nb_men_ik', 'nb_men_zd_denom', 'NumSeg'],\n",
       "      dtype='object', length=269)"
      ]
     },
     "execution_count": 28,
     "metadata": {},
     "output_type": "execute_result"
    }
   ],
   "source": [
    "base_denombrement_batiment.columns"
   ]
  },
  {
   "cell_type": "markdown",
   "id": "a001af15",
   "metadata": {},
   "source": [
    "##### Etape 1 : Vérifier que le point ménage est dans le segment : \n",
    "###### i. On crée un buffer de 5 m autour du segment ; \n",
    "###### ii. On vérifie si le point ménage appartient au buffer"
   ]
  },
  {
   "cell_type": "code",
   "execution_count": 29,
   "id": "131bef96",
   "metadata": {},
   "outputs": [],
   "source": [
    "# Construction des points geopandas ménage\n",
    "base_verif_carto[\"NumSeg\"] = base_verif_carto[\"HH7\"]\n",
    "base_verif_carto_gpd = gpd.GeoDataFrame(\n",
    "    base_verif_carto, geometry=gpd.points_from_xy(base_verif_carto['GPS__Longitude'],base_verif_carto['GPS__Latitude']),crs=\"EPSG:4326\")\n",
    "base_verif_carto_gpd[\"points_geo\"] = base_verif_carto_gpd[\"geometry\"]\n",
    "by_segment = base_verif_carto_gpd.groupby('HH7')"
   ]
  },
  {
   "cell_type": "code",
   "execution_count": 30,
   "id": "98c99dae",
   "metadata": {},
   "outputs": [],
   "source": [
    "# Lecture du Shapefile\n",
    "gdf = gpd.read_file(wd + \"SHP\\\\SEG_Emploi.shp\")"
   ]
  },
  {
   "cell_type": "code",
   "execution_count": 31,
   "id": "7a7ff89c",
   "metadata": {},
   "outputs": [],
   "source": [
    "#Changement du système de coordonnées en mêtre CIV\n",
    "gdf = gdf.to_crs(32630)\n",
    "#Ajout du buffer de 5 metres\n",
    "gdf['geometry'] = gdf['geometry'].buffer(5)\n",
    "#Retour aux systèmes du coordonnées en format GPS\n",
    "gdf = gdf.to_crs(4326)\n",
    "#Creation d'une variable pour les polygones\n",
    "gdf[\"polygon\"] = gdf[\"geometry\"]"
   ]
  },
  {
   "cell_type": "code",
   "execution_count": 34,
   "id": "1b23a3c3",
   "metadata": {},
   "outputs": [],
   "source": [
    "#Pour chaque segment, on vérifie que les points ménages du segment appartiennent au buffer du segment\n",
    "for name, grp in by_segment:\n",
    "    group = grp.merge(gdf, how='inner', on='NumSeg')\n",
    "    group[\"within\"] = np.nan\n",
    "    for i in range(len(group)):\n",
    "        point   = group.loc[i, \"points_geo\"]\n",
    "        polygon = group.loc[i, \"polygon\"]\n",
    "        within  = point.within(polygon)\n",
    "        group.loc[i, \"within\"] = within\n",
    "    group.to_excel(wd + name + \".xlsx\",sheet_name=name)\n",
    "    send_mail(name)"
   ]
  },
  {
   "cell_type": "markdown",
   "id": "ab161a78",
   "metadata": {},
   "source": [
    "##### Etape 2 : Vérifier que le point ménage est dans le polygone formé par les points bâtiments : \n",
    "###### i.    On fusionne les données pour retrouver les points bâtiments ; \n",
    "###### ii.   On crée un polygone basée sur les points bâtiments ;\n",
    "###### iii.  On vérifie que le point ménage appartient au polygone crée en (ii)"
   ]
  },
  {
   "cell_type": "code",
   "execution_count": 24,
   "id": "2e26d5b7",
   "metadata": {},
   "outputs": [
    {
     "name": "stderr",
     "output_type": "stream",
     "text": [
      "C:\\Users\\fajmi\\AppData\\Local\\Temp\\ipykernel_29260\\1635790959.py:2: PerformanceWarning: DataFrame is highly fragmented.  This is usually the result of calling `frame.insert` many times, which has poor performance.  Consider joining all columns at once using pd.concat(axis=1) instead. To get a de-fragmented frame, use `newframe = frame.copy()`\n",
      "  base_denombrement_batiment[\"NumSeg\"] = base_denombrement_batiment[\"Sg\"]\n"
     ]
    }
   ],
   "source": [
    "# Construction des points geopandas ménage\n",
    "base_denombrement_batiment[\"NumSeg\"] = base_denombrement_batiment[\"Sg\"]\n",
    "base_denombrement_batiment_gpd = gpd.GeoDataFrame(\n",
    "    base_denombrement_batiment, geometry=gpd.points_from_xy(base_denombrement_batiment['gps__Longitude'],base_denombrement_batiment['gps__Latitude']),crs=\"EPSG:4326\")\n",
    "base_denombrement_batiment_gpd[\"bats_geo\"] = base_denombrement_batiment_gpd[\"geometry\"]\n",
    "by_segment = base_denombrement_batiment_gpd.groupby('Sg')"
   ]
  },
  {
   "cell_type": "code",
   "execution_count": 25,
   "id": "d82ec7bf",
   "metadata": {},
   "outputs": [
    {
     "name": "stdout",
     "output_type": "stream",
     "text": [
      "\n",
      "0151_02\n",
      "0517_03\n",
      "0751_02\n",
      "6002_01\n",
      "6011_01\n",
      "6011_02\n",
      "6045_01\n"
     ]
    }
   ],
   "source": [
    "bat_list_point = []\n",
    "for name, grp in by_segment:\n",
    "    group[\"polygon_batiment\"] = np.nan\n",
    "    print(name)\n",
    "    for i in range(len(group)):\n",
    "        print(i)\n",
    "        bat = group.loc[i, \"bats_geo\"]\n",
    "        print(i)\n",
    "        bat_list_point.append(bat)"
   ]
  },
  {
   "cell_type": "code",
   "execution_count": null,
   "id": "263ae998",
   "metadata": {},
   "outputs": [],
   "source": []
  },
  {
   "cell_type": "markdown",
   "id": "e8874e71",
   "metadata": {},
   "source": []
  },
  {
   "cell_type": "code",
   "execution_count": 26,
   "id": "cf0b4f97",
   "metadata": {},
   "outputs": [
    {
     "data": {
      "text/plain": [
       "[]"
      ]
     },
     "execution_count": 26,
     "metadata": {},
     "output_type": "execute_result"
    }
   ],
   "source": [
    "bat_list_point"
   ]
  },
  {
   "cell_type": "code",
   "execution_count": null,
   "id": "97f99adb",
   "metadata": {},
   "outputs": [],
   "source": []
  }
 ],
 "metadata": {
  "kernelspec": {
   "display_name": "Python 3 (ipykernel)",
   "language": "python",
   "name": "python3"
  },
  "language_info": {
   "codemirror_mode": {
    "name": "ipython",
    "version": 3
   },
   "file_extension": ".py",
   "mimetype": "text/x-python",
   "name": "python",
   "nbconvert_exporter": "python",
   "pygments_lexer": "ipython3",
   "version": "3.11.5"
  }
 },
 "nbformat": 4,
 "nbformat_minor": 5
}
